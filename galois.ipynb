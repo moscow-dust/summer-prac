{
 "cells": [
  {
   "cell_type": "code",
   "execution_count": 33,
   "id": "1ad8ef83",
   "metadata": {},
   "outputs": [
    {
     "name": "stdout",
     "output_type": "stream",
     "text": [
      "i 7\n",
      "200\n",
      "31\n",
      "i 6\n",
      "26\n",
      "1\n",
      "i 5\n",
      "200\n",
      "31\n",
      "i 4\n",
      "26\n",
      "1\n",
      "i 3\n",
      "200\n",
      "31\n",
      "i 2\n",
      "26\n",
      "1\n",
      "i 1\n",
      "200\n",
      "31\n"
     ]
    },
    {
     "data": {
      "text/plain": [
       "31"
      ]
     },
     "execution_count": 33,
     "metadata": {},
     "output_type": "execute_result"
    }
   ],
   "source": [
    "import copy\n",
    "class Galois:\n",
    "    def __init__(self, pol):\n",
    "        if(pol<256):\n",
    "            self.pol = pol\n",
    "    def add(self, num2):\n",
    "        res = self.pol^num2.pol\n",
    "        return res\n",
    "    def multiple(self, num2, modulo):\n",
    "        tmp1 = self.pol\n",
    "        tmp2 = num2.pol\n",
    "        res=0\n",
    "        for i in range(0,14):\n",
    "            if ((tmp1>>i)&1) == 1:\n",
    "                res = res^(tmp2<<i)\n",
    "        if res<256:\n",
    "            return res\n",
    "        lenght_res = len(bin(res))-2\n",
    "        lenght_del = len(bin(modulo))-2\n",
    "        r = lenght_res-lenght_del\n",
    "        tmp = modulo\n",
    "        try:\n",
    "            if modulo==0:\n",
    "                raise Exception(\"Divide zero\")\n",
    "        except Exception as e:\n",
    "            print(e)\n",
    "        if res<modulo:\n",
    "            return modulo\n",
    "        if res==modulo:\n",
    "            return 0\n",
    "        modulo = modulo<<r\n",
    "        while modulo>=tmp:\n",
    "                res = res^modulo\n",
    "                while len(bin(res))-2<len(bin(modulo))-2:\n",
    "                    modulo = modulo>>1\n",
    "        return res\n",
    "    def inverse(self, modulo):\n",
    "        if self.pol == 0:\n",
    "            return 0\n",
    "        if self.pol == 1:\n",
    "            return 1\n",
    "        _pow = 254\n",
    "        ob = self\n",
    "        res = Galois(1)\n",
    "        for i in range(len(bin(_pow))-3,-1,-1):\n",
    "            tmp = (_pow>>i)&1\n",
    "            if i ==0 and tmp ==0:\n",
    "                return res.pol\n",
    "            if tmp==1:\n",
    "                \n",
    "                res.pol = res.multiple(ob,modulo)\n",
    "                print('i',i)\n",
    "                print(res.pol)\n",
    "            if i ==0 and tmp ==1:\n",
    "                return res.pol\n",
    "            res.pol = res.multiple(res,modulo)\n",
    "            print(res.pol)\n",
    "            \n",
    "gal1 = Galois(200)\n",
    "gal2 = Galois(56)\n",
    "res = Galois(4)\n",
    "#print(gal1.multiple(res, 45))\n",
    "gal1.inverse(45)\n"
   ]
  },
  {
   "cell_type": "code",
   "execution_count": null,
   "id": "c18df7dd",
   "metadata": {},
   "outputs": [],
   "source": []
  },
  {
   "cell_type": "code",
   "execution_count": null,
   "id": "c4589542",
   "metadata": {},
   "outputs": [],
   "source": []
  }
 ],
 "metadata": {
  "kernelspec": {
   "display_name": "Python 3 (ipykernel)",
   "language": "python",
   "name": "python3"
  },
  "language_info": {
   "codemirror_mode": {
    "name": "ipython",
    "version": 3
   },
   "file_extension": ".py",
   "mimetype": "text/x-python",
   "name": "python",
   "nbconvert_exporter": "python",
   "pygments_lexer": "ipython3",
   "version": "3.8.10"
  }
 },
 "nbformat": 4,
 "nbformat_minor": 5
}
